{
 "cells": [
  {
   "cell_type": "code",
   "execution_count": 58,
   "id": "initial_id",
   "metadata": {
    "collapsed": true,
    "ExecuteTime": {
     "end_time": "2023-08-17T19:42:39.948839Z",
     "start_time": "2023-08-17T19:42:39.885624Z"
    }
   },
   "outputs": [],
   "source": [
    "## Importing libraries\n",
    "import pandas as pd\n",
    "import numpy as np\n",
    "from sklearn.metrics import classification_report\n",
    "from sklearn.ensemble import HistGradientBoostingClassifier\n",
    "from sklearn.model_selection import train_test_split\n",
    "from sklearn.metrics import mean_squared_error as mse\n",
    "from sklearn.metrics import r2_score"
   ]
  },
  {
   "cell_type": "code",
   "execution_count": 59,
   "outputs": [
    {
     "data": {
      "text/plain": "        price                         address                  city  \\\n0     4890000               Stengårdsvænge 85      Københavns omegn   \n1      695000            Vestergade 4, 2. tv.            Sydjylland   \n2     4998000                    Horns Rev 27            Sydjylland   \n3     2995000                    Nøddehøj 226          Nordsjælland   \n4    10950000                 Skovbakkevej 24           Nordjylland   \n..        ...                             ...                   ...   \n431   4295000                    Dalgasgade 5           Vestjylland   \n432    849000                   Suhrs Gade 15  Vest- og Sydsjælland   \n433   1250000                   Borgergade 89  Vest- og Sydsjælland   \n434   1775000                      Polarvej 2            Sydjylland   \n435   3495000  Lundebjerggårdsvej 1E, st. tv.      Københavns omegn   \n\n                   type  saledays energy  living_space  ground_space  rooms  \\\n0                 Villa       0.0      C            81           301    4.0   \n1         Ejerlejlighed     127.0      C            90           304    3.0   \n2                 Villa       0.0      E           151          4714    5.0   \n3              Rækkehus       0.0      B            90           211    3.0   \n4                 Villa       0.0      D           248           926    6.0   \n..                  ...       ...    ...           ...           ...    ...   \n431               Villa       3.0      C           220           655    6.0   \n432  Villa/Fritidsbolig       3.0      C           170           552    7.0   \n433               Villa       3.0      F           132           892    4.0   \n434               Villa       3.0      C           120          1621    3.0   \n435       Ejerlejlighed       3.0      B           110          4241    3.0   \n\n     owner_expenses  ...  Villa  Villa/Fritidsbolig  A  B  C  D  E  F  G  \\\n0            3614.0  ...      1                   0  0  0  1  0  0  0  0   \n1            1198.0  ...      0                   0  0  0  1  0  0  0  0   \n2            5464.0  ...      1                   0  0  0  0  0  1  0  0   \n3            2902.0  ...      0                   0  0  1  0  0  0  0  0   \n4            5710.0  ...      1                   0  0  0  0  1  0  0  0   \n..              ...  ...    ...                 ... .. .. .. .. .. .. ..   \n431          2548.0  ...      1                   0  0  0  1  0  0  0  0   \n432          1850.0  ...      0                   1  0  0  1  0  0  0  0   \n433          2598.0  ...      1                   0  0  0  0  0  0  1  0   \n434          2904.0  ...      1                   0  0  0  1  0  0  0  0   \n435          3254.0  ...      0                   0  0  1  0  0  0  0  0   \n\n       age  \n0     68.0  \n1    123.0  \n2     38.0  \n3     30.0  \n4    129.0  \n..     ...  \n431   99.0  \n432   98.0  \n433   45.0  \n434   37.0  \n435   17.0  \n\n[436 rows x 28 columns]",
      "text/html": "<div>\n<style scoped>\n    .dataframe tbody tr th:only-of-type {\n        vertical-align: middle;\n    }\n\n    .dataframe tbody tr th {\n        vertical-align: top;\n    }\n\n    .dataframe thead th {\n        text-align: right;\n    }\n</style>\n<table border=\"1\" class=\"dataframe\">\n  <thead>\n    <tr style=\"text-align: right;\">\n      <th></th>\n      <th>price</th>\n      <th>address</th>\n      <th>city</th>\n      <th>type</th>\n      <th>saledays</th>\n      <th>energy</th>\n      <th>living_space</th>\n      <th>ground_space</th>\n      <th>rooms</th>\n      <th>owner_expenses</th>\n      <th>...</th>\n      <th>Villa</th>\n      <th>Villa/Fritidsbolig</th>\n      <th>A</th>\n      <th>B</th>\n      <th>C</th>\n      <th>D</th>\n      <th>E</th>\n      <th>F</th>\n      <th>G</th>\n      <th>age</th>\n    </tr>\n  </thead>\n  <tbody>\n    <tr>\n      <th>0</th>\n      <td>4890000</td>\n      <td>Stengårdsvænge 85</td>\n      <td>Københavns omegn</td>\n      <td>Villa</td>\n      <td>0.0</td>\n      <td>C</td>\n      <td>81</td>\n      <td>301</td>\n      <td>4.0</td>\n      <td>3614.0</td>\n      <td>...</td>\n      <td>1</td>\n      <td>0</td>\n      <td>0</td>\n      <td>0</td>\n      <td>1</td>\n      <td>0</td>\n      <td>0</td>\n      <td>0</td>\n      <td>0</td>\n      <td>68.0</td>\n    </tr>\n    <tr>\n      <th>1</th>\n      <td>695000</td>\n      <td>Vestergade 4, 2. tv.</td>\n      <td>Sydjylland</td>\n      <td>Ejerlejlighed</td>\n      <td>127.0</td>\n      <td>C</td>\n      <td>90</td>\n      <td>304</td>\n      <td>3.0</td>\n      <td>1198.0</td>\n      <td>...</td>\n      <td>0</td>\n      <td>0</td>\n      <td>0</td>\n      <td>0</td>\n      <td>1</td>\n      <td>0</td>\n      <td>0</td>\n      <td>0</td>\n      <td>0</td>\n      <td>123.0</td>\n    </tr>\n    <tr>\n      <th>2</th>\n      <td>4998000</td>\n      <td>Horns Rev 27</td>\n      <td>Sydjylland</td>\n      <td>Villa</td>\n      <td>0.0</td>\n      <td>E</td>\n      <td>151</td>\n      <td>4714</td>\n      <td>5.0</td>\n      <td>5464.0</td>\n      <td>...</td>\n      <td>1</td>\n      <td>0</td>\n      <td>0</td>\n      <td>0</td>\n      <td>0</td>\n      <td>0</td>\n      <td>1</td>\n      <td>0</td>\n      <td>0</td>\n      <td>38.0</td>\n    </tr>\n    <tr>\n      <th>3</th>\n      <td>2995000</td>\n      <td>Nøddehøj 226</td>\n      <td>Nordsjælland</td>\n      <td>Rækkehus</td>\n      <td>0.0</td>\n      <td>B</td>\n      <td>90</td>\n      <td>211</td>\n      <td>3.0</td>\n      <td>2902.0</td>\n      <td>...</td>\n      <td>0</td>\n      <td>0</td>\n      <td>0</td>\n      <td>1</td>\n      <td>0</td>\n      <td>0</td>\n      <td>0</td>\n      <td>0</td>\n      <td>0</td>\n      <td>30.0</td>\n    </tr>\n    <tr>\n      <th>4</th>\n      <td>10950000</td>\n      <td>Skovbakkevej 24</td>\n      <td>Nordjylland</td>\n      <td>Villa</td>\n      <td>0.0</td>\n      <td>D</td>\n      <td>248</td>\n      <td>926</td>\n      <td>6.0</td>\n      <td>5710.0</td>\n      <td>...</td>\n      <td>1</td>\n      <td>0</td>\n      <td>0</td>\n      <td>0</td>\n      <td>0</td>\n      <td>1</td>\n      <td>0</td>\n      <td>0</td>\n      <td>0</td>\n      <td>129.0</td>\n    </tr>\n    <tr>\n      <th>...</th>\n      <td>...</td>\n      <td>...</td>\n      <td>...</td>\n      <td>...</td>\n      <td>...</td>\n      <td>...</td>\n      <td>...</td>\n      <td>...</td>\n      <td>...</td>\n      <td>...</td>\n      <td>...</td>\n      <td>...</td>\n      <td>...</td>\n      <td>...</td>\n      <td>...</td>\n      <td>...</td>\n      <td>...</td>\n      <td>...</td>\n      <td>...</td>\n      <td>...</td>\n      <td>...</td>\n    </tr>\n    <tr>\n      <th>431</th>\n      <td>4295000</td>\n      <td>Dalgasgade 5</td>\n      <td>Vestjylland</td>\n      <td>Villa</td>\n      <td>3.0</td>\n      <td>C</td>\n      <td>220</td>\n      <td>655</td>\n      <td>6.0</td>\n      <td>2548.0</td>\n      <td>...</td>\n      <td>1</td>\n      <td>0</td>\n      <td>0</td>\n      <td>0</td>\n      <td>1</td>\n      <td>0</td>\n      <td>0</td>\n      <td>0</td>\n      <td>0</td>\n      <td>99.0</td>\n    </tr>\n    <tr>\n      <th>432</th>\n      <td>849000</td>\n      <td>Suhrs Gade 15</td>\n      <td>Vest- og Sydsjælland</td>\n      <td>Villa/Fritidsbolig</td>\n      <td>3.0</td>\n      <td>C</td>\n      <td>170</td>\n      <td>552</td>\n      <td>7.0</td>\n      <td>1850.0</td>\n      <td>...</td>\n      <td>0</td>\n      <td>1</td>\n      <td>0</td>\n      <td>0</td>\n      <td>1</td>\n      <td>0</td>\n      <td>0</td>\n      <td>0</td>\n      <td>0</td>\n      <td>98.0</td>\n    </tr>\n    <tr>\n      <th>433</th>\n      <td>1250000</td>\n      <td>Borgergade 89</td>\n      <td>Vest- og Sydsjælland</td>\n      <td>Villa</td>\n      <td>3.0</td>\n      <td>F</td>\n      <td>132</td>\n      <td>892</td>\n      <td>4.0</td>\n      <td>2598.0</td>\n      <td>...</td>\n      <td>1</td>\n      <td>0</td>\n      <td>0</td>\n      <td>0</td>\n      <td>0</td>\n      <td>0</td>\n      <td>0</td>\n      <td>1</td>\n      <td>0</td>\n      <td>45.0</td>\n    </tr>\n    <tr>\n      <th>434</th>\n      <td>1775000</td>\n      <td>Polarvej 2</td>\n      <td>Sydjylland</td>\n      <td>Villa</td>\n      <td>3.0</td>\n      <td>C</td>\n      <td>120</td>\n      <td>1621</td>\n      <td>3.0</td>\n      <td>2904.0</td>\n      <td>...</td>\n      <td>1</td>\n      <td>0</td>\n      <td>0</td>\n      <td>0</td>\n      <td>1</td>\n      <td>0</td>\n      <td>0</td>\n      <td>0</td>\n      <td>0</td>\n      <td>37.0</td>\n    </tr>\n    <tr>\n      <th>435</th>\n      <td>3495000</td>\n      <td>Lundebjerggårdsvej 1E, st. tv.</td>\n      <td>Københavns omegn</td>\n      <td>Ejerlejlighed</td>\n      <td>3.0</td>\n      <td>B</td>\n      <td>110</td>\n      <td>4241</td>\n      <td>3.0</td>\n      <td>3254.0</td>\n      <td>...</td>\n      <td>0</td>\n      <td>0</td>\n      <td>0</td>\n      <td>1</td>\n      <td>0</td>\n      <td>0</td>\n      <td>0</td>\n      <td>0</td>\n      <td>0</td>\n      <td>17.0</td>\n    </tr>\n  </tbody>\n</table>\n<p>436 rows × 28 columns</p>\n</div>"
     },
     "execution_count": 59,
     "metadata": {},
     "output_type": "execute_result"
    }
   ],
   "source": [
    "## Data Cleaning\n",
    "# Get energy dummy\n",
    "sample_data = pd.read_csv('../data/cleaned_data.csv',encoding='utf-16')\n",
    "df = pd.DataFrame(sample_data)\n",
    "df['energy'] = df['energy'].str.replace('Energimærke ', '')\n",
    "df['energy'] = df['energy'].str.replace('A2015','A')\n",
    "df['energy'] = df['energy'].str.replace('A2020','A')\n",
    "dummy_energy = pd.get_dummies(df['energy'])\n",
    "df = pd.concat([df,dummy_energy],axis=1)\n",
    "\n",
    "# Change constructing year to construction age\n",
    "\n",
    "df['age'] = 2023 - df['year']\n",
    "\n",
    "df\n"
   ],
   "metadata": {
    "collapsed": false,
    "ExecuteTime": {
     "end_time": "2023-08-17T19:42:40.021195Z",
     "start_time": "2023-08-17T19:42:39.891949Z"
    }
   },
   "id": "786d241c470f8634"
  },
  {
   "cell_type": "code",
   "execution_count": 60,
   "outputs": [],
   "source": [
    "## Dataset split\n",
    "columns_to_drop = ['price','address','city','type','energy', 'year','area_name']\n",
    "X,y = df.drop(columns_to_drop,axis=1),df.price\n",
    "test_size = 0.30 # taking 70:30 training and test set\n",
    "seed = 17082023 # Random number seeding for repeatability of the code\n",
    "X_train, X_test, y_train, y_test = train_test_split(X, y, test_size=test_size, random_state=seed)"
   ],
   "metadata": {
    "collapsed": false,
    "ExecuteTime": {
     "end_time": "2023-08-17T19:42:40.021949Z",
     "start_time": "2023-08-17T19:42:39.922445Z"
    }
   },
   "id": "e59bd210221eaee4"
  },
  {
   "cell_type": "code",
   "execution_count": 61,
   "outputs": [
    {
     "name": "stdout",
     "output_type": "stream",
     "text": [
      "              precision    recall  f1-score   support\n",
      "\n",
      "      295000       0.00      0.00      0.00         0\n",
      "      395000       0.00      0.00      0.00         1\n",
      "      430000       0.00      0.00      0.00         0\n",
      "      495000       0.00      0.00      0.00         1\n",
      "      550000       0.00      0.00      0.00         0\n",
      "      625000       0.00      0.00      0.00         1\n",
      "      795000       0.00      0.00      0.00         1\n",
      "      798000       0.00      0.00      0.00         1\n",
      "      825000       0.00      0.00      0.00         1\n",
      "      849000       0.00      0.00      0.00         1\n",
      "      895000       0.00      0.00      0.00         0\n",
      "      975000       0.00      0.00      0.00         0\n",
      "      995000       0.00      0.00      0.00         1\n",
      "      998000       0.00      0.00      0.00         0\n",
      "     1085000       0.00      0.00      0.00         1\n",
      "     1095000       0.00      0.00      0.00         2\n",
      "     1098000       1.00      1.00      1.00         1\n",
      "     1125000       0.00      0.00      0.00         1\n",
      "     1148000       0.00      0.00      0.00         1\n",
      "     1150000       1.00      0.50      0.67         2\n",
      "     1175000       0.00      0.00      0.00         1\n",
      "     1195000       0.00      0.00      0.00         4\n",
      "     1225000       0.00      0.00      0.00         1\n",
      "     1245000       0.00      0.00      0.00         0\n",
      "     1250000       0.00      0.00      0.00         2\n",
      "     1295000       0.00      0.00      0.00         1\n",
      "     1345000       0.00      0.00      0.00         0\n",
      "     1395000       0.00      0.00      0.00         0\n",
      "     1425000       0.00      0.00      0.00         2\n",
      "     1448000       0.00      0.00      0.00         1\n",
      "     1495000       0.00      0.00      0.00         3\n",
      "     1498000       0.00      0.00      0.00         1\n",
      "     1575000       0.00      0.00      0.00         1\n",
      "     1595000       0.09      0.25      0.13         4\n",
      "     1685000       0.00      0.00      0.00         1\n",
      "     1695000       0.00      0.00      0.00         3\n",
      "     1748000       1.00      1.00      1.00         2\n",
      "     1775000       0.00      0.00      0.00         0\n",
      "     1795000       0.00      0.00      0.00         2\n",
      "     1845000       0.00      0.00      0.00         0\n",
      "     1895000       0.00      0.00      0.00         1\n",
      "     1950000       0.00      0.00      0.00         0\n",
      "     1985000       0.00      0.00      0.00         1\n",
      "     1995000       0.00      0.00      0.00         2\n",
      "     2095000       0.00      0.00      0.00         0\n",
      "     2145000       1.00      1.00      1.00         2\n",
      "     2175000       0.00      0.00      0.00         1\n",
      "     2195000       0.00      0.00      0.00         2\n",
      "     2395000       0.00      0.00      0.00         2\n",
      "     2495000       0.50      0.50      0.50         4\n",
      "     2575000       0.00      0.00      0.00         0\n",
      "     2595000       0.00      0.00      0.00         2\n",
      "     2645000       0.00      0.00      0.00         1\n",
      "     2695000       0.00      0.00      0.00         1\n",
      "     2745000       0.00      0.00      0.00         2\n",
      "     2795000       1.00      1.00      1.00         1\n",
      "     2799000       0.00      0.00      0.00         1\n",
      "     2850000       0.00      0.00      0.00         0\n",
      "     2895000       0.00      0.00      0.00         2\n",
      "     2995000       0.00      0.00      0.00         5\n",
      "     3195000       0.00      0.00      0.00         2\n",
      "     3250000       0.00      0.00      0.00         1\n",
      "     3295000       0.00      0.00      0.00         0\n",
      "     3395000       0.00      0.00      0.00         2\n",
      "     3398000       0.00      0.00      0.00         1\n",
      "     3495000       0.00      0.00      0.00         3\n",
      "     3595000       1.00      1.00      1.00         1\n",
      "     3598000       0.00      0.00      0.00         1\n",
      "     3665000       0.00      0.00      0.00         1\n",
      "     3895000       0.00      0.00      0.00         1\n",
      "     3945000       1.00      0.50      0.67         2\n",
      "     3995000       0.14      0.50      0.22         2\n",
      "     4095000       0.00      0.00      0.00         1\n",
      "     4195000       0.00      0.00      0.00         1\n",
      "     4250000       0.00      0.00      0.00         0\n",
      "     4295000       0.00      0.00      0.00         2\n",
      "     4350000       0.00      0.00      0.00         1\n",
      "     4395000       0.00      0.00      0.00         1\n",
      "     4495000       1.00      0.50      0.67         2\n",
      "     4695000       0.00      0.00      0.00         1\n",
      "     4700000       0.00      0.00      0.00         1\n",
      "     4798000       0.00      0.00      0.00         0\n",
      "     4890000       0.00      0.00      0.00         1\n",
      "     4950000       1.00      1.00      1.00         1\n",
      "     4995000       1.00      0.33      0.50         3\n",
      "     5195000       0.00      0.00      0.00         1\n",
      "     5250000       0.00      0.00      0.00         1\n",
      "     5295000       0.00      0.00      0.00         1\n",
      "     5395000       0.00      0.00      0.00         1\n",
      "     5495000       0.00      0.00      0.00         1\n",
      "     5500000       0.00      0.00      0.00         0\n",
      "     5600000       0.00      0.00      0.00         1\n",
      "     5798000       0.00      0.00      0.00         1\n",
      "     5995000       0.00      0.00      0.00         1\n",
      "     5998000       1.00      0.33      0.50         3\n",
      "     6195000       0.50      1.00      0.67         1\n",
      "     6495000       0.00      0.00      0.00         1\n",
      "     6595000       0.00      0.00      0.00         0\n",
      "     6995000       0.00      0.00      0.00         1\n",
      "     7475000       0.00      0.00      0.00         1\n",
      "     7495000       0.00      0.00      0.00         0\n",
      "     7500000       0.50      1.00      0.67         1\n",
      "     7750000       0.00      0.00      0.00         0\n",
      "     8200000       0.00      0.00      0.00         1\n",
      "     8495000       0.00      0.00      0.00         1\n",
      "     8995000       0.00      0.00      0.00         1\n",
      "     9250000       0.00      0.00      0.00         0\n",
      "     9495000       0.00      0.00      0.00         1\n",
      "    12500000       1.00      1.00      1.00         1\n",
      "    13000000       0.00      0.00      0.00         0\n",
      "    13500000       0.00      0.00      0.00         1\n",
      "    17800000       0.00      0.00      0.00         1\n",
      "    19995000       0.00      0.00      0.00         0\n",
      "    27000000       0.00      0.00      0.00         1\n",
      "\n",
      "    accuracy                           0.15       131\n",
      "   macro avg       0.12      0.11      0.11       131\n",
      "weighted avg       0.19      0.15      0.16       131\n"
     ]
    },
    {
     "name": "stderr",
     "output_type": "stream",
     "text": [
      "/Library/Frameworks/Python.framework/Versions/3.11/lib/python3.11/site-packages/sklearn/metrics/_classification.py:1469: UndefinedMetricWarning: Precision and F-score are ill-defined and being set to 0.0 in labels with no predicted samples. Use `zero_division` parameter to control this behavior.\n",
      "  _warn_prf(average, modifier, msg_start, len(result))\n",
      "/Library/Frameworks/Python.framework/Versions/3.11/lib/python3.11/site-packages/sklearn/metrics/_classification.py:1469: UndefinedMetricWarning: Recall and F-score are ill-defined and being set to 0.0 in labels with no true samples. Use `zero_division` parameter to control this behavior.\n",
      "  _warn_prf(average, modifier, msg_start, len(result))\n",
      "/Library/Frameworks/Python.framework/Versions/3.11/lib/python3.11/site-packages/sklearn/metrics/_classification.py:1469: UndefinedMetricWarning: Precision and F-score are ill-defined and being set to 0.0 in labels with no predicted samples. Use `zero_division` parameter to control this behavior.\n",
      "  _warn_prf(average, modifier, msg_start, len(result))\n",
      "/Library/Frameworks/Python.framework/Versions/3.11/lib/python3.11/site-packages/sklearn/metrics/_classification.py:1469: UndefinedMetricWarning: Recall and F-score are ill-defined and being set to 0.0 in labels with no true samples. Use `zero_division` parameter to control this behavior.\n",
      "  _warn_prf(average, modifier, msg_start, len(result))\n",
      "/Library/Frameworks/Python.framework/Versions/3.11/lib/python3.11/site-packages/sklearn/metrics/_classification.py:1469: UndefinedMetricWarning: Precision and F-score are ill-defined and being set to 0.0 in labels with no predicted samples. Use `zero_division` parameter to control this behavior.\n",
      "  _warn_prf(average, modifier, msg_start, len(result))\n",
      "/Library/Frameworks/Python.framework/Versions/3.11/lib/python3.11/site-packages/sklearn/metrics/_classification.py:1469: UndefinedMetricWarning: Recall and F-score are ill-defined and being set to 0.0 in labels with no true samples. Use `zero_division` parameter to control this behavior.\n",
      "  _warn_prf(average, modifier, msg_start, len(result))\n"
     ]
    }
   ],
   "source": [
    "## Main model\n",
    "eta = 0.1\n",
    "gradient_booster = HistGradientBoostingClassifier(learning_rate=eta)\n",
    "# Gradient boosting classifiers are required to implement gradient boosting.\n",
    "gradient_booster.fit(X_train,y_train)\n",
    "y_test_predict = gradient_booster.predict(X_test)\n",
    "print(classification_report(y_test,y_test_predict))\n",
    "# Use the Python module named classification report to verify the correctness and quality of the accuracy report ()."
   ],
   "metadata": {
    "collapsed": false,
    "ExecuteTime": {
     "end_time": "2023-08-17T19:43:30.839200Z",
     "start_time": "2023-08-17T19:42:39.954075Z"
    }
   },
   "id": "ac833ad706704629"
  },
  {
   "cell_type": "code",
   "execution_count": 62,
   "outputs": [
    {
     "data": {
      "text/plain": "2102903.2748098774"
     },
     "execution_count": 62,
     "metadata": {},
     "output_type": "execute_result"
    }
   ],
   "source": [
    "## Root mean squared errors\n",
    "rmse_GBM = mse(y_test,y_test_predict,squared=False)\n",
    "rmse_GBM"
   ],
   "metadata": {
    "collapsed": false,
    "ExecuteTime": {
     "end_time": "2023-08-17T19:43:30.862640Z",
     "start_time": "2023-08-17T19:43:30.841954Z"
    }
   },
   "id": "ef6c75214821fb9a"
  },
  {
   "cell_type": "markdown",
   "source": [],
   "metadata": {
    "collapsed": false
   },
   "id": "f41bafee0ca68b5c"
  },
  {
   "cell_type": "code",
   "execution_count": 64,
   "outputs": [
    {
     "data": {
      "text/plain": "0.5979514033937828"
     },
     "execution_count": 64,
     "metadata": {},
     "output_type": "execute_result"
    }
   ],
   "source": [
    "## R-squared\n",
    "r2_GBM = r2_score(y_test,y_test_predict)\n",
    "r2_GBM"
   ],
   "metadata": {
    "collapsed": false,
    "ExecuteTime": {
     "end_time": "2023-08-17T19:43:44.288568Z",
     "start_time": "2023-08-17T19:43:44.285172Z"
    }
   },
   "id": "e244a6b9b987e93a"
  }
 ],
 "metadata": {
  "kernelspec": {
   "display_name": "Python 3",
   "language": "python",
   "name": "python3"
  },
  "language_info": {
   "codemirror_mode": {
    "name": "ipython",
    "version": 2
   },
   "file_extension": ".py",
   "mimetype": "text/x-python",
   "name": "python",
   "nbconvert_exporter": "python",
   "pygments_lexer": "ipython2",
   "version": "2.7.6"
  }
 },
 "nbformat": 4,
 "nbformat_minor": 5
}
